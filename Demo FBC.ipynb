{
 "metadata": {
  "name": "",
  "signature": "sha256:6144fa8285c4e99503b9b79c55e93bd04a6c3e7f687810c7465dddcca4d52735"
 },
 "nbformat": 3,
 "nbformat_minor": 0,
 "worksheets": [
  {
   "cells": [
    {
     "cell_type": "code",
     "collapsed": false,
     "input": [
      "import numpy as np\n",
      "import os.path as op\n",
      "import nibabel as nib\n",
      "import dipy.core.optimize as opt\n",
      "if not op.exists('lr-superiorfrontal.trk'):\n",
      "    from streamline_tools import *\n",
      "else:\n",
      "    # We'll need to know where the corpus callosum is from these variables:\n",
      "    from dipy.data import (read_stanford_labels,\n",
      "                           fetch_stanford_t1,\n",
      "                           read_stanford_t1)\n",
      "    hardi_img, gtab, labels_img = read_stanford_labels()\n",
      "    labels = labels_img.get_data()\n",
      "    cc_slice = labels == 2\n",
      "    fetch_stanford_t1()\n",
      "    t1 = read_stanford_t1()\n",
      "    t1_data = t1.get_data()\n",
      "    data = hardi_img.get_data()\n",
      "# Read the candidates from file in voxel space:\n",
      "candidate_sl = [s[0] for s in nib.trackvis.read('lr-superiorfrontal.trk',\n",
      "                                                  points_space='voxel')[0]]"
     ],
     "language": "python",
     "metadata": {},
     "outputs": [
      {
       "output_type": "stream",
       "stream": "stdout",
       "text": [
        "Dataset is already in place. If you want to fetch it again please first remove the folder C:\\Users\\smeester\\.dipy\\stanford_hardi \n",
        "All files already in C:\\Users\\smeester\\.dipy\\stanford_hardi."
       ]
      },
      {
       "output_type": "stream",
       "stream": "stdout",
       "text": [
        "\n",
        "All files already in C:\\Users\\smeester\\.dipy\\stanford_hardi.\n",
        "All files already in C:\\Users\\smeester\\.dipy\\stanford_hardi.\n"
       ]
      }
     ],
     "prompt_number": 2
    },
    {
     "cell_type": "code",
     "collapsed": false,
     "input": [
      "from dipy.viz.colormap import line_colors\n",
      "from dipy.viz import fvtk\n",
      "candidate_streamlines_actor = fvtk.streamtube(candidate_sl,\n",
      "                                       line_colors(candidate_sl))\n",
      "cc_ROI_actor = fvtk.contour(cc_slice, levels=[1], colors=[(1., 1., 0.)],\n",
      "                            opacities=[1.])\n",
      "vol_actor = fvtk.slicer(t1_data, voxsz=(1.0, 1.0, 1.0), plane_i=[40],\n",
      "                        plane_j=None, plane_k=[35], outline=False)\n",
      "# Add display objects to canvas\n",
      "ren = fvtk.ren()\n",
      "fvtk.add(ren, candidate_streamlines_actor)\n",
      "fvtk.add(ren, cc_ROI_actor)\n",
      "fvtk.add(ren, vol_actor)\n",
      "fvtk.show(ren, size=(800, 800))\n",
      "fvtk.record(ren, n_frames=1, out_path='life_candidates.png',\n",
      "            size=(800, 800))"
     ],
     "language": "python",
     "metadata": {},
     "outputs": [],
     "prompt_number": 6
    },
    {
     "cell_type": "code",
     "collapsed": false,
     "input": [
      "from scipy.spatial import KDTree\n",
      "from dipy.data import get_sphere\n",
      "\n",
      "sphere = get_sphere('symmetric724')\n",
      "tree = KDTree(sphere.vertices)"
     ],
     "language": "python",
     "metadata": {},
     "outputs": [],
     "prompt_number": 3
    },
    {
     "cell_type": "code",
     "collapsed": false,
     "input": [
      "tree"
     ],
     "language": "python",
     "metadata": {},
     "outputs": [
      {
       "metadata": {},
       "output_type": "pyout",
       "prompt_number": 12,
       "text": [
        "<scipy.spatial.kdtree.KDTree at 0x41536d8>"
       ]
      }
     ],
     "prompt_number": 12
    },
    {
     "cell_type": "code",
     "collapsed": false,
     "input": [
      "from numpy import linalg as LA\n",
      "tangent=candidate_sl[1][3]- candidate_sl[1][2]\n",
      "tangent=tangent/LA.norm(candidate_sl[1][3]- candidate_sl[1][2])"
     ],
     "language": "python",
     "metadata": {},
     "outputs": [],
     "prompt_number": 5
    },
    {
     "cell_type": "code",
     "collapsed": false,
     "input": [
      "tangent"
     ],
     "language": "python",
     "metadata": {},
     "outputs": [
      {
       "metadata": {},
       "output_type": "pyout",
       "prompt_number": 20,
       "text": [
        "array([ 0.14251675, -0.21354625, -0.96648175], dtype=float32)"
       ]
      }
     ],
     "prompt_number": 20
    },
    {
     "cell_type": "code",
     "collapsed": false,
     "input": [
      "tree.query(tangent)[1]"
     ],
     "language": "python",
     "metadata": {},
     "outputs": [
      {
       "metadata": {},
       "output_type": "pyout",
       "prompt_number": 7,
       "text": [
        "290"
       ]
      }
     ],
     "prompt_number": 7
    },
    {
     "cell_type": "code",
     "collapsed": false,
     "input": [
      "sphere.vertices[290]"
     ],
     "language": "python",
     "metadata": {},
     "outputs": [
      {
       "metadata": {},
       "output_type": "pyout",
       "prompt_number": 22,
       "text": [
        "array([ 0.12373959, -0.19751381, -0.97245916])"
       ]
      }
     ],
     "prompt_number": 22
    },
    {
     "cell_type": "code",
     "collapsed": false,
     "input": [
      "from dipy.denoise.kernel import EnhancementKernel\n",
      "\n",
      "D33 = 1.0\n",
      "D44 = 0.02\n",
      "t = 1\n",
      "k = EnhancementKernel(D33, D44, t, force_recompute=True, test_mode=True)"
     ],
     "language": "python",
     "metadata": {},
     "outputs": [
      {
       "output_type": "stream",
       "stream": "stdout",
       "text": [
        "Dimensions of kernel: 7x7x7\n"
       ]
      }
     ],
     "prompt_number": 2
    },
    {
     "cell_type": "code",
     "collapsed": false,
     "input": [
      "k.get_orientations()"
     ],
     "language": "python",
     "metadata": {},
     "outputs": [
      {
       "metadata": {},
       "output_type": "pyout",
       "prompt_number": 6,
       "text": [
        "<MemoryView of 'ndarray' at 0x12f0fa98>"
       ]
      }
     ],
     "prompt_number": 6
    },
    {
     "cell_type": "code",
     "collapsed": false,
     "input": [
      "from dipy.tracking.fbcmeasures import FBCMeasures\n",
      "\n",
      "FBCMeasures(candidate_sl, k)"
     ],
     "language": "python",
     "metadata": {},
     "outputs": []
    },
    {
     "cell_type": "code",
     "collapsed": false,
     "input": [],
     "language": "python",
     "metadata": {},
     "outputs": []
    }
   ],
   "metadata": {}
  }
 ]
}