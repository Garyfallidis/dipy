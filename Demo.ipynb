{
 "metadata": {
  "name": "",
  "signature": "sha256:8d8bc2c9a35beb7e871beb31b763f0532668d6846aa5c4f10958ce4cf7cd7e86"
 },
 "nbformat": 3,
 "nbformat_minor": 0,
 "worksheets": [
  {
   "cells": [
    {
     "cell_type": "heading",
     "level": 1,
     "metadata": {},
     "source": [
      "Demo for contextual enhancements"
     ]
    },
    {
     "cell_type": "heading",
     "level": 4,
     "metadata": {},
     "source": [
      "Load the Stanford HARDI dataset and add Rician noise"
     ]
    },
    {
     "cell_type": "code",
     "collapsed": false,
     "input": [
      "import numpy as np\n",
      "from dipy.data import fetch_stanford_hardi, read_stanford_hardi\n",
      "from dipy.sims.voxel import add_noise\n",
      "\n",
      "# read data\n",
      "fetch_stanford_hardi()\n",
      "img, gtab = read_stanford_hardi()\n",
      "data = img.get_data()\n",
      "\n",
      "# add rician noise\n",
      "data = add_noise(data, 5, 500 , noise_type='rician')"
     ],
     "language": "python",
     "metadata": {},
     "outputs": [
      {
       "output_type": "stream",
       "stream": "stdout",
       "text": [
        "Dataset is already in place. If you want to fetch it again please first remove the folder C:\\Users\\smeester\\.dipy\\stanford_hardi \n"
       ]
      }
     ],
     "prompt_number": 1
    },
    {
     "cell_type": "code",
     "collapsed": false,
     "input": [
      "from dipy.reconst.csdeconv import auto_response\n",
      "from dipy.reconst.csdeconv import ConstrainedSphericalDeconvModel\n",
      "\n",
      "# Estimate response function\n",
      "response, ratio = auto_response(gtab, data, roi_radius=10, fa_thr=0.7)\n",
      "csd_model = ConstrainedSphericalDeconvModel(gtab, response)\n",
      "\n",
      "# For illustration purposes we will fit only a small portion of the data.\n",
      "data_small = data[20:50, 55:85, 38:39]\n",
      "csd_fit = csd_model.fit(data_small)\n",
      "csd_shm = csd_fit.shm_coeff"
     ],
     "language": "python",
     "metadata": {},
     "outputs": [],
     "prompt_number": 2
    },
    {
     "cell_type": "heading",
     "level": 4,
     "metadata": {},
     "source": [
      "Create lookup table and perform convolution"
     ]
    },
    {
     "cell_type": "code",
     "collapsed": false,
     "input": [
      "from dipy.denoise.kernel import EnhancementKernel\n",
      "from dipy.denoise.convolution5d import convolve_5d\n",
      "\n",
      "# Create lookup table\n",
      "D33 = 1.0\n",
      "D44 = 0.02\n",
      "t = 1\n",
      "k = EnhancementKernel(D33, D44, t, force_recompute=True)\n",
      "\n",
      "# Perform convolution\n",
      "csd_enh = convolve_5d(csd_shm, k)"
     ],
     "language": "python",
     "metadata": {},
     "outputs": []
    },
    {
     "cell_type": "heading",
     "level": 4,
     "metadata": {},
     "source": [
      "Visualize the raw and enhanced ODFs"
     ]
    },
    {
     "cell_type": "code",
     "collapsed": false,
     "input": [
      "from dipy.reconst.shm import sh_to_sf\n",
      "from dipy.viz import fvtk\n",
      "from dipy.data import get_sphere\n",
      "\n",
      "# Convert raw and enhanced data to discrete form\n",
      "sphere = get_sphere('symmetric724')\n",
      "csd_odf = sh_to_sf(csd_shm, sphere, sh_order=8)\n",
      "csd_enh_odf = sh_to_sf(csd_enh, sphere, sh_order=8)\n",
      "\n",
      "# Visualize the results with VTK\n",
      "ren = fvtk.ren()\n",
      "\n",
      "fodf_spheres = fvtk.sphere_funcs(csd_odf, sphere, scale=2, norm=False, radial_scale=True)\n",
      "fvtk.add(ren, fodf_spheres)\n",
      "\n",
      "fodf_spheres_enh = fvtk.sphere_funcs(csd_enh_odf*0.2, sphere, scale=2, norm=False, radial_scale=True)\n",
      "fodf_spheres_enh.SetPosition(75, 0, 0)\n",
      "\n",
      "fvtk.add(ren, fodf_spheres_enh)\n",
      "fvtk.show(ren, size=(600, 600))\n",
      "fvtk.record(ren, out_path='enhancements.png', size=(2048, 2048), magnification=2)"
     ],
     "language": "python",
     "metadata": {},
     "outputs": []
    },
    {
     "cell_type": "heading",
     "level": 4,
     "metadata": {},
     "source": [
      "Fiber tracking"
     ]
    },
    {
     "cell_type": "code",
     "collapsed": false,
     "input": [
      "from dipy.data import read_stanford_labels\n",
      "from dipy.reconst.peaks import peak_directions\n",
      "\n",
      "hardi_img, gtab, labels_img = read_stanford_labels()\n",
      "data = hardi_img.get_data()\n",
      "labels = labels_img.get_data()\n",
      "affine = hardi_img.get_affine()\n",
      "\n",
      "white_matter = (labels == 1) | (labels == 2)"
     ],
     "language": "python",
     "metadata": {},
     "outputs": [
      {
       "output_type": "stream",
       "stream": "stdout",
       "text": [
        "Dataset is already in place. If you want to fetch it again please first remove the folder C:\\Users\\smeester\\.dipy\\stanford_hardi \n",
        "All files already in C:\\Users\\smeester\\.dipy\\stanford_hardi."
       ]
      },
      {
       "output_type": "stream",
       "stream": "stdout",
       "text": [
        "\n"
       ]
      }
     ],
     "prompt_number": 21
    },
    {
     "cell_type": "code",
     "collapsed": false,
     "input": [
      "# Calculate peaks and GFA for our ODF\n",
      "\n",
      "def gfa(samples):\n",
      "    \"\"\"The general fractional anisotropy of a function evaluated\n",
      "    on the unit sphere\"\"\"\n",
      "    diff = samples - samples.mean(-1)[..., None]\n",
      "    n = samples.shape[-1]\n",
      "    numer = n * (diff * diff).sum(-1)\n",
      "    denom = (n - 1) * (samples * samples).sum(-1)\n",
      "    return np.sqrt(numer / denom)\n",
      "\n",
      "from dipy.core.ndindex import ndindex\n",
      "shape = csd_odf.shape[:-1]\n",
      "csd_peaks = np.zeros(shape+(5,))\n",
      "csd_gfa = np.zeros(shape)\n",
      "for idx in ndindex(shape):\n",
      "    direction, pk, ind = peak_directions(csd_odf[idx], \n",
      "                            sphere, \n",
      "                            relative_peak_threshold=.8,\n",
      "                            min_separation_angle=45)\n",
      "    ll = [-1,-1,-1,-1,-1]\n",
      "    ll[0:len(ind)] = ind\n",
      "    csd_peaks[idx]=ll\n",
      "    csd_gfa[idx] = gfa(csd_odf[idx])"
     ],
     "language": "python",
     "metadata": {},
     "outputs": [],
     "prompt_number": 102
    },
    {
     "cell_type": "code",
     "collapsed": false,
     "input": [
      "# Use the peaks and GFA for fiber tracking\n",
      "\n",
      "from dipy.tracking.eudx import EuDX\n",
      "\n",
      "eu = EuDX(csd_gfa,\n",
      "          csd_peaks[..., 0],\n",
      "          seeds=10000,\n",
      "          odf_vertices=sphere.vertices,\n",
      "          a_low=0.2,\n",
      "          mask=white_matter)\n",
      "\n",
      "csd_streamlines = [streamline for streamline in eu]"
     ],
     "language": "python",
     "metadata": {},
     "outputs": [],
     "prompt_number": 128
    },
    {
     "cell_type": "code",
     "collapsed": false,
     "input": [
      "csd_streamlines # no output"
     ],
     "language": "python",
     "metadata": {},
     "outputs": [
      {
       "metadata": {},
       "output_type": "pyout",
       "prompt_number": 129,
       "text": [
        "[]"
       ]
      }
     ],
     "prompt_number": 129
    },
    {
     "cell_type": "code",
     "collapsed": false,
     "input": [
      "csdpeaks = peaks_from_model(model=csd_model,\n",
      "                            data=data_small,\n",
      "                            sphere=sphere,\n",
      "                            relative_peak_threshold=.5,\n",
      "                            min_separation_angle=25,\n",
      "                            normalize_peaks=True)\n",
      "\n",
      "from dipy.tracking.eudx import EuDX\n",
      "\n",
      "eu = EuDX(csdpeaks.gfa,\n",
      "          csdpeaks.peak_indices[..., 0],\n",
      "          seeds=10000,\n",
      "          odf_vertices=sphere.vertices,\n",
      "          a_low=0.2)\n",
      "\n",
      "csd_streamlines = [streamline for streamline in eu]\n",
      "\n",
      "print csd_streamlines # also no output..."
     ],
     "language": "python",
     "metadata": {},
     "outputs": [
      {
       "output_type": "stream",
       "stream": "stdout",
       "text": [
        "[]\n"
       ]
      }
     ],
     "prompt_number": 130
    },
    {
     "cell_type": "code",
     "collapsed": false,
     "input": [],
     "language": "python",
     "metadata": {},
     "outputs": []
    }
   ],
   "metadata": {}
  }
 ]
}