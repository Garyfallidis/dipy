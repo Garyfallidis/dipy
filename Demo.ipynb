{
 "cells": [
  {
   "cell_type": "markdown",
   "metadata": {},
   "source": [
    "# Demo for contextual enhancements"
   ]
  },
  {
   "cell_type": "code",
   "execution_count": null,
   "metadata": {
    "collapsed": true
   },
   "outputs": [],
   "source": [
    "references:\n",
    "    [1] Jorg2015 PloS One\n",
    "    [2] Remco and Franken 2011 IJCV\n",
    "    [3] Jorg2015 SSVM\n",
    "    "
   ]
  },
  {
   "cell_type": "markdown",
   "metadata": {},
   "source": [
    "#### Load the Stanford HARDI dataset and add Rician noise"
   ]
  },
  {
   "cell_type": "code",
   "execution_count": 1,
   "metadata": {
    "collapsed": false
   },
   "outputs": [
    {
     "name": "stdout",
     "output_type": "stream",
     "text": [
      "Dataset is already in place. If you want to fetch it again please first remove the folder C:\\Users\\smeester\\.dipy\\stanford_hardi \n"
     ]
    }
   ],
   "source": [
    "import numpy as np\n",
    "from dipy.data import fetch_stanford_hardi, read_stanford_hardi\n",
    "from dipy.sims.voxel import add_noise\n",
    "\n",
    "# read data\n",
    "fetch_stanford_hardi()\n",
    "img, gtab = read_stanford_hardi()\n",
    "data = img.get_data()\n",
    "\n",
    "# add rician noise\n",
    "data = add_noise(data, 5, 500 , noise_type='rician')"
   ]
  },
  {
   "cell_type": "code",
   "execution_count": 2,
   "metadata": {
    "collapsed": false
   },
   "outputs": [],
   "source": [
    "from dipy.reconst.csdeconv import auto_response\n",
    "from dipy.reconst.csdeconv import ConstrainedSphericalDeconvModel\n",
    "\n",
    "# Estimate response function\n",
    "response, ratio = auto_response(gtab, data, roi_radius=10, fa_thr=0.7)\n",
    "csd_model = ConstrainedSphericalDeconvModel(gtab, response)\n",
    "\n",
    "# For illustration purposes we will fit only a small portion of the data.\n",
    "data_small = data[20:50, 55:85, 38:39] # 5 slices\n",
    "csd_fit = csd_model.fit(data_small)\n",
    "csd_shm = csd_fit.shm_coeff"
   ]
  },
  {
   "cell_type": "markdown",
   "metadata": {},
   "source": [
    "#### Create lookup table and perform convolution"
   ]
  },
  {
   "cell_type": "code",
   "execution_count": null,
   "metadata": {
    "collapsed": false
   },
   "outputs": [],
   "source": [
    "from dipy.denoise.kernel import EnhancementKernel\n",
    "from dipy.denoise.convolution5d import convolve_5d\n",
    "\n",
    "# Create lookup table\n",
    "D33 = 1.0\n",
    "D44 = 0.02\n",
    "t = 1\n",
    "k = EnhancementKernel(D33, D44, t, force_recompute=True)\n",
    "\n",
    "# add a visualization of the kernel\n",
    "\n",
    "# Perform convolution\n",
    "csd_enh = convolve_5d(csd_shm, k)"
   ]
  },
  {
   "cell_type": "markdown",
   "metadata": {},
   "source": [
    "#### Visualize the raw and enhanced ODFs"
   ]
  },
  {
   "cell_type": "code",
   "execution_count": null,
   "metadata": {
    "collapsed": false
   },
   "outputs": [],
   "source": [
    "from dipy.reconst.shm import sh_to_sf\n",
    "from dipy.viz import fvtk\n",
    "from dipy.data import get_sphere\n",
    "\n",
    "# Convert raw and enhanced data to discrete form\n",
    "sphere = get_sphere('symmetric724')\n",
    "csd_odf = sh_to_sf(csd_shm, sphere, sh_order=8)\n",
    "csd_enh_odf = sh_to_sf(csd_enh, sphere, sh_order=8)\n",
    "\n",
    "# Visualize the results with VTK\n",
    "ren = fvtk.ren()\n",
    "\n",
    "fodf_spheres = fvtk.sphere_funcs(csd_odf, sphere, scale=2, norm=False, radial_scale=True)\n",
    "fvtk.add(ren, fodf_spheres)\n",
    "\n",
    "fodf_spheres_enh = fvtk.sphere_funcs(csd_enh_odf*0.2, sphere, scale=2, norm=False, radial_scale=True)\n",
    "fodf_spheres_enh.SetPosition(75, 0, 0)\n",
    "\n",
    "fvtk.add(ren, fodf_spheres_enh)\n",
    "fvtk.show(ren, size=(600, 600))\n",
    "fvtk.record(ren, out_path='enhancements.png', size=(2048, 2048), magnification=2)"
   ]
  },
  {
   "cell_type": "code",
   "execution_count": null,
   "metadata": {
    "collapsed": true
   },
   "outputs": [],
   "source": [
    "# add a sharpening step\n",
    "# already available in dipy"
   ]
  },
  {
   "cell_type": "code",
   "execution_count": null,
   "metadata": {
    "collapsed": true
   },
   "outputs": [],
   "source": []
  },
  {
   "cell_type": "markdown",
   "metadata": {},
   "source": [
    "#### Fiber tracking"
   ]
  },
  {
   "cell_type": "code",
   "execution_count": 21,
   "metadata": {
    "collapsed": false
   },
   "outputs": [
    {
     "name": "stdout",
     "output_type": "stream",
     "text": [
      "Dataset is already in place. If you want to fetch it again please first remove the folder C:\\Users\\smeester\\.dipy\\stanford_hardi \n",
      "All files already in C:\\Users\\smeester\\.dipy\\stanford_hardi.\n"
     ]
    }
   ],
   "source": [
    "from dipy.data import read_stanford_labels\n",
    "from dipy.reconst.peaks import peak_directions\n",
    "\n",
    "hardi_img, gtab, labels_img = read_stanford_labels()\n",
    "data = hardi_img.get_data()\n",
    "labels = labels_img.get_data()\n",
    "affine = hardi_img.get_affine()\n",
    "\n",
    "white_matter = (labels == 1) | (labels == 2)"
   ]
  },
  {
   "cell_type": "code",
   "execution_count": 102,
   "metadata": {
    "collapsed": false
   },
   "outputs": [],
   "source": [
    "# Calculate peaks and GFA for our ODF\n",
    "\n",
    "def gfa(samples):\n",
    "    \"\"\"The general fractional anisotropy of a function evaluated\n",
    "    on the unit sphere\"\"\"\n",
    "    diff = samples - samples.mean(-1)[..., None]\n",
    "    n = samples.shape[-1]\n",
    "    numer = n * (diff * diff).sum(-1)\n",
    "    denom = (n - 1) * (samples * samples).sum(-1)\n",
    "    return np.sqrt(numer / denom)\n",
    "\n",
    "from dipy.core.ndindex import ndindex\n",
    "shape = csd_odf.shape[:-1]\n",
    "csd_peaks = np.zeros(shape+(5,))\n",
    "csd_gfa = np.zeros(shape)\n",
    "for idx in ndindex(shape):\n",
    "    direction, pk, ind = peak_directions(csd_odf[idx], \n",
    "                            sphere, \n",
    "                            relative_peak_threshold=.8,\n",
    "                            min_separation_angle=45)\n",
    "    ll = [-1,-1,-1,-1,-1]\n",
    "    ll[0:len(ind)] = ind\n",
    "    csd_peaks[idx]=ll\n",
    "    csd_gfa[idx] = gfa(csd_odf[idx])"
   ]
  },
  {
   "cell_type": "code",
   "execution_count": 128,
   "metadata": {
    "collapsed": false
   },
   "outputs": [],
   "source": [
    "# Use the peaks and GFA for fiber tracking\n",
    "\n",
    "from dipy.tracking.eudx import EuDX\n",
    "\n",
    "eu = EuDX(csd_gfa,\n",
    "          csd_peaks[..., 0],\n",
    "          seeds=10000,\n",
    "          odf_vertices=sphere.vertices,\n",
    "          a_low=0.2,\n",
    "          mask=white_matter)\n",
    "\n",
    "csd_streamlines = [streamline for streamline in eu]"
   ]
  },
  {
   "cell_type": "code",
   "execution_count": 129,
   "metadata": {
    "collapsed": false
   },
   "outputs": [
    {
     "data": {
      "text/plain": [
       "[]"
      ]
     },
     "execution_count": 129,
     "metadata": {},
     "output_type": "execute_result"
    }
   ],
   "source": [
    "csd_streamlines # no output"
   ]
  },
  {
   "cell_type": "code",
   "execution_count": 130,
   "metadata": {
    "collapsed": false
   },
   "outputs": [
    {
     "name": "stdout",
     "output_type": "stream",
     "text": [
      "[]\n"
     ]
    }
   ],
   "source": [
    "csdpeaks = peaks_from_model(model=csd_model,\n",
    "                            data=data_small,\n",
    "                            sphere=sphere,\n",
    "                            relative_peak_threshold=.5,\n",
    "                            min_separation_angle=25,\n",
    "                            normalize_peaks=True)\n",
    "\n",
    "from dipy.tracking.eudx import EuDX\n",
    "\n",
    "eu = EuDX(csdpeaks.gfa,\n",
    "          csdpeaks.peak_indices[..., 0],\n",
    "          seeds=10000,\n",
    "          odf_vertices=sphere.vertices,\n",
    "          a_low=0.2)\n",
    "\n",
    "csd_streamlines = [streamline for streamline in eu]\n",
    "\n",
    "print csd_streamlines # also no output..."
   ]
  },
  {
   "cell_type": "code",
   "execution_count": null,
   "metadata": {
    "collapsed": false
   },
   "outputs": [],
   "source": []
  }
 ],
 "metadata": {
  "kernelspec": {
   "display_name": "Python 2",
   "language": "python",
   "name": "python2"
  },
  "language_info": {
   "codemirror_mode": {
    "name": "ipython",
    "version": 2
   },
   "file_extension": ".py",
   "mimetype": "text/x-python",
   "name": "python",
   "nbconvert_exporter": "python",
   "pygments_lexer": "ipython2",
   "version": "2.7.10"
  }
 },
 "nbformat": 4,
 "nbformat_minor": 0
}
