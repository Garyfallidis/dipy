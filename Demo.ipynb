{
 "metadata": {
  "name": "",
  "signature": "sha256:67d4b45b328dfb41d453570b64de00ff2dd4aa66e4d6850b16b7c70f67767159"
 },
 "nbformat": 3,
 "nbformat_minor": 0,
 "worksheets": [
  {
   "cells": [
    {
     "cell_type": "heading",
     "level": 1,
     "metadata": {},
     "source": [
      "Demo for contextual enhancements"
     ]
    },
    {
     "cell_type": "heading",
     "level": 4,
     "metadata": {},
     "source": [
      "Load the Stanford HARDI dataset and add Rician noise"
     ]
    },
    {
     "cell_type": "code",
     "collapsed": false,
     "input": [
      "import numpy as np\n",
      "from dipy.data import fetch_stanford_hardi, read_stanford_hardi\n",
      "from dipy.sims.voxel import add_noise\n",
      "\n",
      "# read data\n",
      "fetch_stanford_hardi()\n",
      "img, gtab = read_stanford_hardi()\n",
      "data = img.get_data()\n",
      "\n",
      "# add rician noise\n",
      "data = add_noise(data, 5, 500 , noise_type='rician')"
     ],
     "language": "python",
     "metadata": {},
     "outputs": [
      {
       "output_type": "stream",
       "stream": "stdout",
       "text": [
        "Dataset is already in place. If you want to fetch it again please first remove the folder C:\\Users\\smeester\\.dipy\\stanford_hardi \n"
       ]
      }
     ],
     "prompt_number": 1
    },
    {
     "cell_type": "code",
     "collapsed": false,
     "input": [
      "range(1,5)"
     ],
     "language": "python",
     "metadata": {},
     "outputs": [
      {
       "metadata": {},
       "output_type": "pyout",
       "prompt_number": 46,
       "text": [
        "[1, 2, 3, 4]"
       ]
      }
     ],
     "prompt_number": 46
    },
    {
     "cell_type": "code",
     "collapsed": false,
     "input": [],
     "language": "python",
     "metadata": {},
     "outputs": []
    },
    {
     "cell_type": "code",
     "collapsed": false,
     "input": [],
     "language": "python",
     "metadata": {},
     "outputs": []
    },
    {
     "cell_type": "markdown",
     "metadata": {},
     "source": [
      "Perform CSD"
     ]
    },
    {
     "cell_type": "code",
     "collapsed": false,
     "input": [
      "from dipy.reconst.csdeconv import auto_response\n",
      "from dipy.reconst.csdeconv import ConstrainedSphericalDeconvModel\n",
      "\n",
      "# Estimate response function\n",
      "response, ratio = auto_response(gtab, data, roi_radius=10, fa_thr=0.7)\n",
      "csd_model = ConstrainedSphericalDeconvModel(gtab, response)\n",
      "\n",
      "# For illustration purposes we will fit only a small portion of the data.\n",
      "data_small = data[20:50, 55:85, 38:39]\n",
      "csd_fit = csd_model.fit(data_small)\n",
      "csd_shm = csd_fit.shm_coeff"
     ],
     "language": "python",
     "metadata": {},
     "outputs": [],
     "prompt_number": 2
    },
    {
     "cell_type": "code",
     "collapsed": false,
     "input": [
      "csapeaks = peaks_from_model(model=csd_model,\n",
      "                            data=data_small,\n",
      "                            sphere=sphere,\n",
      "                            relative_peak_threshold=.5,\n",
      "                            min_separation_angle=25)\n",
      "print csapeaks.peak_indices\n",
      "print csapeaks.peak_indices.shape"
     ],
     "language": "python",
     "metadata": {},
     "outputs": [
      {
       "output_type": "stream",
       "stream": "stdout",
       "text": [
        "[[[[ 85 658 175  -1  -1]]\n",
        "\n",
        "  [[169  48  -1  -1  -1]]\n",
        "\n",
        "  [[250 142 432  -1  -1]]\n",
        "\n",
        "  ..., \n",
        "  [[328 271  -1  -1  -1]]\n",
        "\n",
        "  [[310  -1  -1  -1  -1]]\n",
        "\n",
        "  [[280   7  -1  -1  -1]]]\n",
        "\n",
        "\n",
        " [[[213 198  55  -1  -1]]\n",
        "\n",
        "  [[699  22  -1  -1  -1]]\n",
        "\n",
        "  [[129 224 516  -1  -1]]\n",
        "\n",
        "  ..., \n",
        "  [[137 615  -1  -1  -1]]\n",
        "\n",
        "  [[194 487  -1  -1  -1]]\n",
        "\n",
        "  [[ 86 295  -1  -1  -1]]]\n",
        "\n",
        "\n",
        " [[[ 93 244 204  -1  -1]]\n",
        "\n",
        "  [[240 360  10  -1  -1]]\n",
        "\n",
        "  [[546 637  73  -1  -1]]\n",
        "\n",
        "  ..., \n",
        "  [[133 488  -1  -1  -1]]\n",
        "\n",
        "  [[172 123  -1  -1  -1]]\n",
        "\n",
        "  [[ 91 173 320  -1  -1]]]\n",
        "\n",
        "\n",
        " ..., \n",
        " [[[ 66  -1  -1  -1  -1]]\n",
        "\n",
        "  [[430 408 329  -1  -1]]\n",
        "\n",
        "  [[  4 700  -1  -1  -1]]\n",
        "\n",
        "  ..., \n",
        "  [[ 86 315  -1  -1  -1]]\n",
        "\n",
        "  [[640 579  -1  -1  -1]]\n",
        "\n",
        "  [[307 259  -1  -1  -1]]]\n",
        "\n",
        "\n",
        " [[[484  -1  -1  -1  -1]]\n",
        "\n",
        "  [[135 294  -1  -1  -1]]\n",
        "\n",
        "  [[484 281  -1  -1  -1]]\n",
        "\n",
        "  ..., \n",
        "  [[ 39  58  -1  -1  -1]]\n",
        "\n",
        "  [[332  94  58  -1  -1]]\n",
        "\n",
        "  [[311  63  -1  -1  -1]]]\n",
        "\n",
        "\n",
        " [[[219 289  -1  -1  -1]]\n",
        "\n",
        "  [[156  -1  -1  -1  -1]]\n",
        "\n",
        "  [[260 156  -1  -1  -1]]\n",
        "\n",
        "  ..., \n",
        "  [[435  -1  -1  -1  -1]]\n",
        "\n",
        "  [[ 73  61  -1  -1  -1]]\n",
        "\n",
        "  [[ 73 129  -1  -1  -1]]]]\n",
        "(30L, 30L, 1L, 5L)\n"
       ]
      }
     ],
     "prompt_number": 74
    },
    {
     "cell_type": "heading",
     "level": 4,
     "metadata": {},
     "source": [
      "Create lookup table and perform convolution"
     ]
    },
    {
     "cell_type": "code",
     "collapsed": false,
     "input": [
      "from dipy.denoise.kernel import EnhancementKernel\n",
      "from dipy.denoise.convolution5d import convolve_5d\n",
      "\n",
      "# Create lookup table\n",
      "D33 = 1.0\n",
      "D44 = 0.02\n",
      "t = 1\n",
      "k = EnhancementKernel(D33, D44, t, force_recompute=True)\n",
      "\n",
      "# Perform convolution\n",
      "csd_enh = convolve_5d(csd_shm, k)"
     ],
     "language": "python",
     "metadata": {},
     "outputs": [
      {
       "output_type": "stream",
       "stream": "stdout",
       "text": [
        "The kernel doesn't exist yet. Computing...\n",
        "max kernel val: 0.350756\n",
        "Dimensions of kernel: 7x7x7\n"
       ]
      }
     ],
     "prompt_number": 9
    },
    {
     "cell_type": "heading",
     "level": 4,
     "metadata": {},
     "source": [
      "Visualize the raw and enhanced ODFs"
     ]
    },
    {
     "cell_type": "code",
     "collapsed": false,
     "input": [
      "from dipy.reconst.shm import sh_to_sf\n",
      "from dipy.viz import fvtk\n",
      "from dipy.data import get_sphere\n",
      "\n",
      "# Convert raw and enhanced data to discrete form\n",
      "sphere = get_sphere('symmetric724')\n",
      "csd_odf = sh_to_sf(csd_shm, sphere, sh_order=8)\n",
      "csd_enh_odf = sh_to_sf(csd_enh, sphere, sh_order=8)\n",
      "\n",
      "# Visualize the results with VTK\n",
      "ren = fvtk.ren()\n",
      "\n",
      "fodf_spheres = fvtk.sphere_funcs(csd_odf, sphere, scale=2, norm=False, radial_scale=True)\n",
      "fvtk.add(ren, fodf_spheres)\n",
      "\n",
      "fodf_spheres_enh = fvtk.sphere_funcs(csd_enh_odf*0.2, sphere, scale=2, norm=False, radial_scale=True)\n",
      "fodf_spheres_enh.SetPosition(75, 0, 0)\n",
      "\n",
      "fvtk.add(ren, fodf_spheres_enh)\n",
      "fvtk.show(ren, size=(600, 600))\n",
      "fvtk.record(ren, out_path='enhancements.png', size=(2048, 2048), magnification=2)"
     ],
     "language": "python",
     "metadata": {},
     "outputs": [],
     "prompt_number": 44
    },
    {
     "cell_type": "code",
     "collapsed": false,
     "input": [
      "from dipy.data import read_stanford_labels\n",
      "from dipy.reconst.peaks import peak_directions\n",
      "\n",
      "hardi_img, gtab, labels_img = read_stanford_labels()\n",
      "data = hardi_img.get_data()\n",
      "labels = labels_img.get_data()\n",
      "affine = hardi_img.get_affine()\n",
      "\n",
      "white_matter = (labels == 1) | (labels == 2)\n",
      "\n",
      "csd_peaks = peak_directions(csd_odf[0,0,0,:], \n",
      "                            sphere, \n",
      "                            relative_peak_threshold=.8,\n",
      "                            min_separation_angle=45)"
     ],
     "language": "python",
     "metadata": {},
     "outputs": [
      {
       "output_type": "stream",
       "stream": "stdout",
       "text": [
        "Dataset is already in place. If you want to fetch it again please first remove the folder C:\\Users\\smeester\\.dipy\\stanford_hardi \n",
        "All files already in C:\\Users\\smeester\\.dipy\\stanford_hardi."
       ]
      },
      {
       "output_type": "stream",
       "stream": "stdout",
       "text": [
        "\n"
       ]
      }
     ],
     "prompt_number": 21
    },
    {
     "cell_type": "code",
     "collapsed": false,
     "input": [
      "a=-np.ones(5)\n",
      "a[0:2] = [1,2]\n",
      "a"
     ],
     "language": "python",
     "metadata": {},
     "outputs": [
      {
       "metadata": {},
       "output_type": "pyout",
       "prompt_number": 82,
       "text": [
        "array([ 1.,  2., -1., -1., -1.])"
       ]
      }
     ],
     "prompt_number": 82
    },
    {
     "cell_type": "code",
     "collapsed": false,
     "input": [
      "csd_peaks"
     ],
     "language": "python",
     "metadata": {},
     "outputs": [
      {
       "metadata": {},
       "output_type": "pyout",
       "prompt_number": 22,
       "text": [
        "(array([[-0.63170637, -0.76381215,  0.13243131]]),\n",
        " array([ 0.76619055]),\n",
        " array([85], dtype=int64))"
       ]
      }
     ],
     "prompt_number": 22
    },
    {
     "cell_type": "code",
     "collapsed": false,
     "input": [
      "csd_shm[0,0,0,:]"
     ],
     "language": "python",
     "metadata": {},
     "outputs": [
      {
       "metadata": {},
       "output_type": "pyout",
       "prompt_number": 19,
       "text": [
        "array([ 0.34031173,  0.07589521,  0.03020913, -0.1407508 , -0.02564079,\n",
        "        0.11475483, -0.14787321, -0.31350028,  0.01777237,  0.07457302,\n",
        "       -0.03049242, -0.15831414, -0.2215332 ,  0.06488317, -0.14708139,\n",
        "        0.09502555, -0.07596347,  0.01231973,  0.04992738, -0.06587729,\n",
        "       -0.01126479,  0.00904706,  0.11322874,  0.02366999, -0.09630839,\n",
        "        0.02671236,  0.00830261, -0.1200815 ,  0.03654758,  0.05113624,\n",
        "        0.02984247, -0.0058211 , -0.05576315, -0.0263902 ,  0.02624955,\n",
        "       -0.04028473, -0.01213377, -0.01574791,  0.0128984 ,  0.02193549,\n",
        "        0.03451163,  0.06704601,  0.02685167,  0.02967705,  0.02545146])"
       ]
      }
     ],
     "prompt_number": 19
    },
    {
     "cell_type": "code",
     "collapsed": false,
     "input": [
      "def gfa(samples):\n",
      "    \"\"\"The general fractional anisotropy of a function evaluated\n",
      "    on the unit sphere\"\"\"\n",
      "    diff = samples - samples.mean(-1)[..., None]\n",
      "    n = samples.shape[-1]\n",
      "    numer = n * (diff * diff).sum(-1)\n",
      "    denom = (n - 1) * (samples * samples).sum(-1)\n",
      "    return np.sqrt(numer / denom)"
     ],
     "language": "python",
     "metadata": {},
     "outputs": [],
     "prompt_number": 33
    },
    {
     "cell_type": "code",
     "collapsed": false,
     "input": [
      "from dipy.core.ndindex import ndindex\n",
      "shape = csd_odf.shape[:-1]\n",
      "csd_peaks = np.zeros(shape+(5,))\n",
      "csd_gfa = np.zeros(shape)\n",
      "for idx in ndindex(shape):\n",
      "    direction, pk, ind = peak_directions(csd_odf[idx], \n",
      "                            sphere, \n",
      "                            relative_peak_threshold=.8,\n",
      "                            min_separation_angle=45)\n",
      "    ll = [-1,-1,-1,-1,-1]\n",
      "    ll[0:len(ind)] = ind\n",
      "    csd_peaks[idx]=ll\n",
      "    #csd_peaks[idx] = direction\n",
      "    csd_gfa[idx] = gfa(csd_odf[idx])\n",
      "csd_peaks = np.array(csd_peaks)"
     ],
     "language": "python",
     "metadata": {},
     "outputs": [],
     "prompt_number": 96
    },
    {
     "cell_type": "code",
     "collapsed": false,
     "input": [
      "csd_peaks.shape"
     ],
     "language": "python",
     "metadata": {},
     "outputs": [
      {
       "metadata": {},
       "output_type": "pyout",
       "prompt_number": 97,
       "text": [
        "(30L, 30L, 1L, 5L)"
       ]
      }
     ],
     "prompt_number": 97
    },
    {
     "cell_type": "code",
     "collapsed": false,
     "input": [
      "from dipy.tracking.eudx import EuDX\n",
      "\n",
      "eu = EuDX(csd_gfa,\n",
      "          csd_peaks,\n",
      "          seeds=100,\n",
      "          odf_vertices=sphere.vertices,\n",
      "          a_low=0.2)\n",
      "\n",
      "csa_streamlines = [streamline for streamline in eu]"
     ],
     "language": "python",
     "metadata": {},
     "outputs": [
      {
       "ename": "ValueError",
       "evalue": "Buffer has wrong number of dimensions (expected 4, got 5)",
       "output_type": "pyerr",
       "traceback": [
        "\u001b[1;31m---------------------------------------------------------------------------\u001b[0m\n\u001b[1;31mValueError\u001b[0m                                Traceback (most recent call last)",
        "\u001b[1;32m<ipython-input-98-c29025d470a3>\u001b[0m in \u001b[0;36m<module>\u001b[1;34m()\u001b[0m\n\u001b[0;32m      7\u001b[0m           a_low=0.2)\n\u001b[0;32m      8\u001b[0m \u001b[1;33m\u001b[0m\u001b[0m\n\u001b[1;32m----> 9\u001b[1;33m \u001b[0mcsa_streamlines\u001b[0m \u001b[1;33m=\u001b[0m \u001b[1;33m[\u001b[0m\u001b[0mstreamline\u001b[0m \u001b[1;32mfor\u001b[0m \u001b[0mstreamline\u001b[0m \u001b[1;32min\u001b[0m \u001b[0meu\u001b[0m\u001b[1;33m]\u001b[0m\u001b[1;33m\u001b[0m\u001b[0m\n\u001b[0m",
        "\u001b[1;32mE:\\Stephan\\DiPy-dev\\dipy\\tracking\\utils.pyc\u001b[0m in \u001b[0;36mmove_streamlines\u001b[1;34m(streamlines, output_space, input_space)\u001b[0m\n\u001b[0;32m    896\u001b[0m     \u001b[1;31m# End of initialization\u001b[0m\u001b[1;33m\u001b[0m\u001b[1;33m\u001b[0m\u001b[0m\n\u001b[0;32m    897\u001b[0m \u001b[1;33m\u001b[0m\u001b[0m\n\u001b[1;32m--> 898\u001b[1;33m     \u001b[1;32mfor\u001b[0m \u001b[0msl\u001b[0m \u001b[1;32min\u001b[0m \u001b[0mstreamlines\u001b[0m\u001b[1;33m:\u001b[0m\u001b[1;33m\u001b[0m\u001b[0m\n\u001b[0m\u001b[0;32m    899\u001b[0m         \u001b[1;32myield\u001b[0m \u001b[0mnp\u001b[0m\u001b[1;33m.\u001b[0m\u001b[0mdot\u001b[0m\u001b[1;33m(\u001b[0m\u001b[0msl\u001b[0m\u001b[1;33m,\u001b[0m \u001b[0mlin_T\u001b[0m\u001b[1;33m)\u001b[0m \u001b[1;33m+\u001b[0m \u001b[0moffset\u001b[0m\u001b[1;33m\u001b[0m\u001b[0m\n\u001b[0;32m    900\u001b[0m \u001b[1;33m\u001b[0m\u001b[0m\n",
        "\u001b[1;32mE:\\Stephan\\DiPy-dev\\dipy\\tracking\\eudx.py\u001b[0m in \u001b[0;36m_voxel_tracks\u001b[1;34m(self, seed_voxels)\u001b[0m\n\u001b[0;32m    200\u001b[0m                                              \u001b[0mself\u001b[0m\u001b[1;33m.\u001b[0m\u001b[0mstep_sz\u001b[0m\u001b[1;33m,\u001b[0m\u001b[1;33m\u001b[0m\u001b[0m\n\u001b[0;32m    201\u001b[0m                                              \u001b[0mself\u001b[0m\u001b[1;33m.\u001b[0m\u001b[0mtotal_weight\u001b[0m\u001b[1;33m,\u001b[0m\u001b[1;33m\u001b[0m\u001b[0m\n\u001b[1;32m--> 202\u001b[1;33m                                              self.max_points)\n\u001b[0m\u001b[0;32m    203\u001b[0m                 \u001b[1;32mif\u001b[0m \u001b[0mtrack\u001b[0m \u001b[1;32mis\u001b[0m \u001b[1;32mnot\u001b[0m \u001b[0mNone\u001b[0m \u001b[1;32mand\u001b[0m \u001b[0mtrack\u001b[0m\u001b[1;33m.\u001b[0m\u001b[0mshape\u001b[0m\u001b[1;33m[\u001b[0m\u001b[1;36m0\u001b[0m\u001b[1;33m]\u001b[0m \u001b[1;33m>\u001b[0m \u001b[1;36m1\u001b[0m\u001b[1;33m:\u001b[0m\u001b[1;33m\u001b[0m\u001b[0m\n\u001b[0;32m    204\u001b[0m                     \u001b[1;32myield\u001b[0m \u001b[0mtrack\u001b[0m\u001b[1;33m\u001b[0m\u001b[0m\n",
        "\u001b[1;32mE:\\Stephan\\DiPy-dev\\dipy\\tracking\\propspeed.pyd\u001b[0m in \u001b[0;36mdipy.tracking.propspeed.eudx_both_directions (dipy\\tracking\\propspeed.c:3394)\u001b[1;34m()\u001b[0m\n",
        "\u001b[1;31mValueError\u001b[0m: Buffer has wrong number of dimensions (expected 4, got 5)"
       ]
      }
     ],
     "prompt_number": 98
    },
    {
     "cell_type": "code",
     "collapsed": false,
     "input": [],
     "language": "python",
     "metadata": {},
     "outputs": []
    }
   ],
   "metadata": {}
  }
 ]
}